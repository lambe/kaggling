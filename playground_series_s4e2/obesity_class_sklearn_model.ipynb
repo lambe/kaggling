{
 "cells": [
  {
   "cell_type": "code",
   "execution_count": 1,
   "metadata": {},
   "outputs": [],
   "source": [
    "import os\n",
    "\n",
    "import pandas as pd\n",
    "import numpy as np\n",
    "import matplotlib.pyplot as plt\n",
    "\n",
    "import sklearn.svm as svm\n",
    "import sklearn.tree as tree\n",
    "import sklearn.linear_model as linear_model\n",
    "import sklearn.ensemble as ensemble\n",
    "import sklearn.model_selection as model_selection\n",
    "import sklearn.metrics as metrics\n",
    "import sklearn.preprocessing as preprocessing\n",
    "\n",
    "# ROOT = '/kaggle/input/playground-series-s4e2'\n",
    "ROOT = 'competition_data'"
   ]
  },
  {
   "cell_type": "code",
   "execution_count": 2,
   "metadata": {},
   "outputs": [],
   "source": [
    "df_train = pd.read_csv(os.path.join(ROOT, 'train.csv'))"
   ]
  },
  {
   "cell_type": "code",
   "execution_count": 3,
   "metadata": {},
   "outputs": [],
   "source": [
    "X_raw = df_train.drop(columns=[\"NObeyesdad\"])\n",
    "y = df_train[\"NObeyesdad\"]\n",
    "\n",
    "def feature_eng(df_X_raw):\n",
    "    # Set aside ID column for now\n",
    "    X_id = df_X_raw[[\"id\"]]\n",
    "\n",
    "    # Convert categorical data to numerical features\n",
    "    cat_cols = [\"Gender\", \"family_history_with_overweight\", \"FAVC\", \"CAEC\", \"SMOKE\", \"SCC\", \"CALC\", \"MTRANS\"]\n",
    "    feature_cats = [[\"Female\", \"Male\"],\n",
    "                    [\"yes\", \"no\"],\n",
    "                    [\"yes\", \"no\"],\n",
    "                    [\"no\", \"Sometimes\", \"Frequently\", \"Always\"],\n",
    "                    [\"yes\", \"no\"],\n",
    "                    [\"yes\", \"no\"],\n",
    "                    [\"no\", \"Sometimes\", \"Frequently\", \"Always\"],\n",
    "                    [\"Automobile\", \"Motorbike\", \"Public_Transportation\", \"Bike\", \"Walking\"]]\n",
    "    enc = preprocessing.OrdinalEncoder(categories=feature_cats)\n",
    "    X_encoded = enc.fit_transform(df_X_raw[cat_cols])\n",
    "    X_cat = pd.DataFrame(X_encoded, df_X_raw.index, cat_cols)\n",
    "\n",
    "    # Normalize numerical features\n",
    "    norm_cols = [\"Age\", \"Height\", \"Weight\", \"FCVC\", \"NCP\", \"CH2O\", \"FAF\", \"TUE\"]\n",
    "    # scaler = preprocessing.StandardScaler()\n",
    "    # X_norm = scaler.fit_transform(df_X_raw[norm_cols])\n",
    "    # X_norm = pd.DataFrame(X_norm, df_X_raw.index, norm_cols)\n",
    "    X_norm = df_X_raw[norm_cols]\n",
    "\n",
    "    X = pd.concat([X_id, X_norm, X_cat], axis=1)\n",
    "\n",
    "    # New features with some predictive power\n",
    "    X[\"BMI\"] = X[\"Weight\"] / X[\"Height\"]**2\n",
    "    X[\"Veg_and_water\"] = X[\"FCVC\"] * X[\"CH2O\"]\n",
    "    X[\"Discounted_activity\"] = X[\"FAF\"] / (X[\"TUE\"] + 1)\n",
    "    return X\n",
    "\n",
    "X = feature_eng(X_raw)"
   ]
  },
  {
   "cell_type": "markdown",
   "metadata": {},
   "source": [
    "Some quick model tests:\n",
    "- Logistic regression = 67-73% accuracy (with data normalization)\n",
    "- Linear SVM = too slow\n",
    "- Basic Decision Tree = 77-85% accuracy\n",
    "- Random Forest = 89.4-90.4% accuracy\n",
    "- Histogram-based Gradient Boosting = 81.1-90.2% accuracy (and takes only 10s to evaluate)"
   ]
  },
  {
   "cell_type": "code",
   "execution_count": 7,
   "metadata": {},
   "outputs": [
    {
     "name": "stdout",
     "output_type": "stream",
     "text": [
      "[0.86319846 0.8966763  0.90004817 0.90243315 0.81112985]\n"
     ]
    }
   ],
   "source": [
    "# Evaluate logistic regression on this dataset\n",
    "# model = linear_model.LogisticRegression(max_iter=1000)\n",
    "# model = svm.SVC(kernel='linear')\n",
    "# model = tree.DecisionTreeClassifier()\n",
    "# model = ensemble.RandomForestClassifier()\n",
    "model = ensemble.HistGradientBoostingClassifier()\n",
    "\n",
    "scores = model_selection.cross_val_score(model, X, y, cv=5, scoring='accuracy')\n",
    "print(scores)\n",
    "\n",
    "# y_pred = model.predict(X_test)\n",
    "# accuracy = metrics.accuracy_score(y_test, y_pred)\n",
    "# print(f'Accuracy: {accuracy:.2f}')"
   ]
  },
  {
   "cell_type": "code",
   "execution_count": 8,
   "metadata": {},
   "outputs": [
    {
     "name": "stdout",
     "output_type": "stream",
     "text": [
      "Accuracy: 0.903\n"
     ]
    }
   ],
   "source": [
    "X_train, X_test, y_train, y_test = model_selection.train_test_split(X, y, test_size=0.2, random_state=42)\n",
    "\n",
    "# Fit model on training set to reduce model bias\n",
    "model.fit(X_train, y_train)\n",
    "y_pred_test = model.predict(X_test)\n",
    "accuracy = metrics.accuracy_score(y_test, y_pred_test)\n",
    "print(f'Accuracy: {accuracy:.3f}')\n"
   ]
  },
  {
   "cell_type": "code",
   "execution_count": 9,
   "metadata": {},
   "outputs": [],
   "source": [
    "# Make final predictions\n",
    "df_test = pd.read_csv(os.path.join(ROOT, 'test.csv'))\n",
    "X_test_final = feature_eng(df_test)\n",
    "\n",
    "y_pred = model.predict(X_test_final)\n",
    "df_test[\"NObeyesdad\"] = y_pred"
   ]
  },
  {
   "cell_type": "code",
   "execution_count": 10,
   "metadata": {},
   "outputs": [],
   "source": [
    "# Export results for submission\n",
    "df_test[[\"id\", \"NObeyesdad\"]].to_csv(\"submission.csv\", index=False)"
   ]
  }
 ],
 "metadata": {
  "kernelspec": {
   "display_name": "venv-3.11",
   "language": "python",
   "name": "python3"
  },
  "language_info": {
   "codemirror_mode": {
    "name": "ipython",
    "version": 3
   },
   "file_extension": ".py",
   "mimetype": "text/x-python",
   "name": "python",
   "nbconvert_exporter": "python",
   "pygments_lexer": "ipython3",
   "version": "3.11.3"
  }
 },
 "nbformat": 4,
 "nbformat_minor": 2
}
